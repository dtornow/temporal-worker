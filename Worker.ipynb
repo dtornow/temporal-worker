{
 "cells": [
  {
   "cell_type": "code",
   "execution_count": 16,
   "id": "3280eb60-bbc3-430d-b1bb-6979efd36d04",
   "metadata": {},
   "outputs": [],
   "source": [
    "import grpc\n",
    "\n",
    "import google.protobuf.duration_pb2\n",
    "\n",
    "from temporal.api.command.v1.message_pb2 import *\n",
    "from temporal.api.common.v1.message_pb2 import *\n",
    "from temporal.api.taskqueue.v1.message_pb2 import *\n",
    "from temporal.api.workflowservice.v1.request_response_pb2 import *\n",
    "from temporal.api.workflowservice.v1.service_pb2_grpc import *"
   ]
  },
  {
   "cell_type": "code",
   "execution_count": 17,
   "id": "28c5758b-2e43-4574-88df-b37e9f9b6d6d",
   "metadata": {},
   "outputs": [],
   "source": [
    "wfss = WorkflowServiceStub(grpc.insecure_channel('host.docker.internal:7233'))"
   ]
  },
  {
   "cell_type": "markdown",
   "id": "57a5ac40-4dde-46c1-94a7-b8d8f15def9b",
   "metadata": {},
   "source": [
    "# Start Workflow Execution"
   ]
  },
  {
   "cell_type": "code",
   "execution_count": 18,
   "id": "df15f5ac-6078-4ed6-a2a1-302f0d521e50",
   "metadata": {},
   "outputs": [],
   "source": [
    "wfe = wfss.StartWorkflowExecution(\n",
    "  StartWorkflowExecutionRequest(\n",
    "    request_id=\"unique-2\", namespace=\"default\", workflow_id=\"foo/2\", workflow_type=WorkflowType(name=\"Foo\"), task_queue=TaskQueue(name=\"foo\")), timeout=60)"
   ]
  },
  {
   "cell_type": "code",
   "execution_count": 19,
   "id": "ceeef051-a45c-49b0-a514-9b09d7d5f204",
   "metadata": {},
   "outputs": [
    {
     "data": {
      "text/plain": [
       "'621485de-3a9f-4664-876a-3f9749d6c3f0'"
      ]
     },
     "execution_count": 19,
     "metadata": {},
     "output_type": "execute_result"
    }
   ],
   "source": [
    "wfe.run_id"
   ]
  },
  {
   "cell_type": "markdown",
   "id": "029a8497-0e65-4cb7-8ea8-9bbba3be0bb2",
   "metadata": {
    "tags": []
   },
   "source": [
    "# 1st Workflow Task Execution"
   ]
  },
  {
   "cell_type": "code",
   "execution_count": 20,
   "id": "fd56b103-9d57-43ee-8722-8c5961fba274",
   "metadata": {},
   "outputs": [],
   "source": [
    "wft = wfss.PollWorkflowTaskQueue(\n",
    "  PollWorkflowTaskQueueRequest(\n",
    "    namespace=\"default\", task_queue=TaskQueue(name=\"foo\")), timeout=60)"
   ]
  },
  {
   "cell_type": "code",
   "execution_count": 21,
   "id": "3d4ac8e6-82c9-4bf3-b617-96c7b5185f4b",
   "metadata": {
    "tags": []
   },
   "outputs": [
    {
     "data": {
      "text/plain": []
     },
     "execution_count": 21,
     "metadata": {},
     "output_type": "execute_result"
    }
   ],
   "source": [
    "wfss.RespondWorkflowTaskCompleted(\n",
    "  RespondWorkflowTaskCompletedRequest(task_token=wft.task_token, commands=[\n",
    "    Command(command_type=1, schedule_activity_task_command_attributes=ScheduleActivityTaskCommandAttributes(activity_id=\"1\", activity_type=ActivityType(name=\"Bar\"), task_queue=TaskQueue(name=\"bar\"), start_to_close_timeout=google.protobuf.duration_pb2.Duration(seconds=60)))\n",
    "    ]), timeout=60)"
   ]
  },
  {
   "cell_type": "code",
   "execution_count": 22,
   "id": "e8fee565-12b4-4b45-a384-21d0370ff0a7",
   "metadata": {},
   "outputs": [
    {
     "data": {
      "text/plain": [
       "task_token: \"\\n$70efea5c-1a42-487b-93b5-a6e4d00c3017\\022\\005foo/2\\032$621485de-3a9f-4664-876a-3f9749d6c3f0 \\002(\\001\"\n",
       "workflow_execution {\n",
       "  workflow_id: \"foo/2\"\n",
       "  run_id: \"621485de-3a9f-4664-876a-3f9749d6c3f0\"\n",
       "}\n",
       "workflow_type {\n",
       "  name: \"Foo\"\n",
       "}\n",
       "started_event_id: 3\n",
       "attempt: 1\n",
       "backlog_count_hint: 1\n",
       "history {\n",
       "  events {\n",
       "    event_id: 1\n",
       "    event_time {\n",
       "      seconds: 1636405780\n",
       "      nanos: 594538700\n",
       "    }\n",
       "    event_type: EVENT_TYPE_WORKFLOW_EXECUTION_STARTED\n",
       "    task_id: 1048576\n",
       "    workflow_execution_started_event_attributes {\n",
       "      workflow_type {\n",
       "        name: \"Foo\"\n",
       "      }\n",
       "      task_queue {\n",
       "        name: \"foo\"\n",
       "        kind: TASK_QUEUE_KIND_NORMAL\n",
       "      }\n",
       "      workflow_task_timeout {\n",
       "        seconds: 10\n",
       "      }\n",
       "      original_execution_run_id: \"621485de-3a9f-4664-876a-3f9749d6c3f0\"\n",
       "      first_execution_run_id: \"621485de-3a9f-4664-876a-3f9749d6c3f0\"\n",
       "      attempt: 1\n",
       "      first_workflow_task_backoff {\n",
       "      }\n",
       "    }\n",
       "  }\n",
       "  events {\n",
       "    event_id: 2\n",
       "    event_time {\n",
       "      seconds: 1636405780\n",
       "      nanos: 594739100\n",
       "    }\n",
       "    event_type: EVENT_TYPE_WORKFLOW_TASK_SCHEDULED\n",
       "    task_id: 1048577\n",
       "    workflow_task_scheduled_event_attributes {\n",
       "      task_queue {\n",
       "        name: \"foo\"\n",
       "        kind: TASK_QUEUE_KIND_NORMAL\n",
       "      }\n",
       "      start_to_close_timeout {\n",
       "        seconds: 10\n",
       "      }\n",
       "      attempt: 1\n",
       "    }\n",
       "  }\n",
       "  events {\n",
       "    event_id: 3\n",
       "    event_time {\n",
       "      seconds: 1636405781\n",
       "      nanos: 802228600\n",
       "    }\n",
       "    event_type: EVENT_TYPE_WORKFLOW_TASK_STARTED\n",
       "    task_id: 1048581\n",
       "    workflow_task_started_event_attributes {\n",
       "      scheduled_event_id: 2\n",
       "      request_id: \"e8c40c44-309f-4112-97a6-e6885b2057eb\"\n",
       "    }\n",
       "  }\n",
       "}\n",
       "workflow_execution_task_queue {\n",
       "  name: \"foo\"\n",
       "  kind: TASK_QUEUE_KIND_NORMAL\n",
       "}\n",
       "scheduled_time {\n",
       "  seconds: 1636405780\n",
       "  nanos: 594739100\n",
       "}\n",
       "started_time {\n",
       "  seconds: 1636405781\n",
       "  nanos: 802228600\n",
       "}"
      ]
     },
     "execution_count": 22,
     "metadata": {},
     "output_type": "execute_result"
    }
   ],
   "source": [
    "wft"
   ]
  },
  {
   "cell_type": "markdown",
   "id": "87c8f4f7-bbd1-47aa-a193-d719ad368020",
   "metadata": {},
   "source": [
    "# 1st Activity Task Execution"
   ]
  },
  {
   "cell_type": "code",
   "execution_count": 23,
   "id": "6f230bc2-161d-4a08-b1d7-e13c8a5b3af2",
   "metadata": {},
   "outputs": [],
   "source": [
    "act = wfss.PollActivityTaskQueue(\n",
    "  PollActivityTaskQueueRequest(\n",
    "    namespace=\"default\", task_queue=TaskQueue(name=\"bar\")), timeout=60)"
   ]
  },
  {
   "cell_type": "code",
   "execution_count": 24,
   "id": "063abc0b-cadf-4205-a719-8d400570a813",
   "metadata": {},
   "outputs": [
    {
     "data": {
      "text/plain": []
     },
     "execution_count": 24,
     "metadata": {},
     "output_type": "execute_result"
    }
   ],
   "source": [
    "wfss.RespondActivityTaskCompleted(\n",
    "  RespondActivityTaskCompletedRequest(\n",
    "      task_token=act.task_token, result=Payloads(payloads=[Payload(data=b'One')])), timeout=60)"
   ]
  },
  {
   "cell_type": "markdown",
   "id": "0a0f1329-517e-4691-bc20-561b0985730d",
   "metadata": {},
   "source": [
    "# 2nd Workflow Task Execution"
   ]
  },
  {
   "cell_type": "code",
   "execution_count": 25,
   "id": "78915f66-4a99-4552-9172-1790c46b3516",
   "metadata": {},
   "outputs": [],
   "source": [
    "wft = wfss.PollWorkflowTaskQueue(\n",
    "  PollWorkflowTaskQueueRequest(\n",
    "    namespace=\"default\", task_queue=TaskQueue(name=\"foo\")), timeout=60)"
   ]
  },
  {
   "cell_type": "code",
   "execution_count": 26,
   "id": "a55a3905-661d-483b-b413-8dcba36aa8b4",
   "metadata": {},
   "outputs": [
    {
     "data": {
      "text/plain": []
     },
     "execution_count": 26,
     "metadata": {},
     "output_type": "execute_result"
    }
   ],
   "source": [
    "wfss.RespondWorkflowTaskCompleted(\n",
    "  RespondWorkflowTaskCompletedRequest(task_token=wft.task_token, commands=[\n",
    "    Command(command_type=1, schedule_activity_task_command_attributes=ScheduleActivityTaskCommandAttributes(activity_id=\"2\", activity_type=ActivityType(name=\"Baz-2\"), task_queue=TaskQueue(name=\"baz\"), start_to_close_timeout=google.protobuf.duration_pb2.Duration(seconds=60)))\n",
    "    ]), timeout=60)"
   ]
  },
  {
   "cell_type": "markdown",
   "id": "1f737453-8587-4159-94ce-b3fc96bacdd5",
   "metadata": {},
   "source": [
    "# 2nd Activity Task Execution"
   ]
  },
  {
   "cell_type": "code",
   "execution_count": 27,
   "id": "21b1cc0a-5a2f-45b9-9885-cf55eaa23f25",
   "metadata": {},
   "outputs": [],
   "source": [
    "act = wfss.PollActivityTaskQueue(\n",
    "  PollActivityTaskQueueRequest(\n",
    "    namespace=\"default\", task_queue=TaskQueue(name=\"baz\")), timeout=60)"
   ]
  },
  {
   "cell_type": "code",
   "execution_count": 28,
   "id": "b4d67b0d-114d-4fe5-920c-aaf3c60b0fc6",
   "metadata": {},
   "outputs": [
    {
     "data": {
      "text/plain": []
     },
     "execution_count": 28,
     "metadata": {},
     "output_type": "execute_result"
    }
   ],
   "source": [
    "wfss.RespondActivityTaskCompleted(\n",
    "  RespondActivityTaskCompletedRequest(\n",
    "      task_token=act.task_token, result=Payloads(payloads=[Payload(data=b'Two')])), timeout=60)"
   ]
  },
  {
   "cell_type": "markdown",
   "id": "9c19743f-377d-419f-a932-68709c6291e1",
   "metadata": {},
   "source": [
    "# 3rd Workflow Task Execution"
   ]
  },
  {
   "cell_type": "code",
   "execution_count": 29,
   "id": "57fb01c3-f638-464e-abb7-2d09fc4d47c8",
   "metadata": {},
   "outputs": [],
   "source": [
    "wft = wfss.PollWorkflowTaskQueue(\n",
    "  PollWorkflowTaskQueueRequest(\n",
    "    namespace=\"default\", task_queue=TaskQueue(name=\"foo\")), timeout=60)"
   ]
  },
  {
   "cell_type": "code",
   "execution_count": 30,
   "id": "f19b1a89-f8bf-4559-8840-b2e25c6fce05",
   "metadata": {},
   "outputs": [
    {
     "data": {
      "text/plain": []
     },
     "execution_count": 30,
     "metadata": {},
     "output_type": "execute_result"
    }
   ],
   "source": [
    "wfss.RespondWorkflowTaskCompleted(\n",
    "  RespondWorkflowTaskCompletedRequest(task_token=wft.task_token, commands=[\n",
    "    Command(command_type=4, complete_workflow_execution_command_attributes=CompleteWorkflowExecutionCommandAttributes(result=Payloads(payloads=[Payload(data=b'OneTwo')])))\n",
    "    ]), timeout=60)"
   ]
  },
  {
   "cell_type": "markdown",
   "id": "b71ff1b5-7dbc-4bd1-82bd-603b6e19d2a2",
   "metadata": {},
   "source": [
    "# Get Workflow Execution History"
   ]
  },
  {
   "cell_type": "code",
   "execution_count": null,
   "id": "d9307c36-e694-4d96-83ce-0ce00e92059d",
   "metadata": {},
   "outputs": [],
   "source": [
    "wfss.GetWorkflowExecutionHistory(GetWorkflowExecutionHistoryRequest(namespace=\"default\", execution=WorkflowExecution(workflow_id=\"foo/1\", run_id=wfe.run_id)))"
   ]
  },
  {
   "cell_type": "code",
   "execution_count": null,
   "id": "a20bc906-003a-49de-b78f-aa8d998550d8",
   "metadata": {},
   "outputs": [],
   "source": []
  }
 ],
 "metadata": {
  "kernelspec": {
   "display_name": "Python 3 (ipykernel)",
   "language": "python",
   "name": "python3"
  },
  "language_info": {
   "codemirror_mode": {
    "name": "ipython",
    "version": 3
   },
   "file_extension": ".py",
   "mimetype": "text/x-python",
   "name": "python",
   "nbconvert_exporter": "python",
   "pygments_lexer": "ipython3",
   "version": "3.9.7"
  }
 },
 "nbformat": 4,
 "nbformat_minor": 5
}
